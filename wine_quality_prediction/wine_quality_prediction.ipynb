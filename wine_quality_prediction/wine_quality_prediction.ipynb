{
 "cells": [
  {
   "cell_type": "code",
   "execution_count": 4,
   "id": "d970f745-7c8e-41de-a203-348d35f0a04b",
   "metadata": {},
   "outputs": [],
   "source": [
    "import pandas as pd\n",
    "import numpy as np\n",
    "import matplotlib.pyplot as plt\n",
    "from sklearn.model_selection import train_test_split\n",
    "from sklearn.linear_model import LinearRegression\n",
    "from sklearn import metrics\n",
    "\n",
    "%matplotlib inline\n"
   ]
  },
  {
   "cell_type": "code",
   "execution_count": null,
   "id": "acabc073-9fa3-4007-aa88-0254c3eb66e7",
   "metadata": {},
   "outputs": [],
   "source": []
  },
  {
   "cell_type": "code",
   "execution_count": null,
   "id": "dfc49758-d5b1-4bfc-8b07-179593a06fa4",
   "metadata": {},
   "outputs": [],
   "source": [
    "file.head()"
   ]
  },
  {
   "cell_type": "code",
   "execution_count": null,
   "id": "feb11301-31ec-4bdb-84e8-c93d6ba4b7c7",
   "metadata": {},
   "outputs": [],
   "source": [
    "file.info()"
   ]
  },
  {
   "cell_type": "code",
   "execution_count": null,
   "id": "3a695b7f-48db-4bef-b4a6-24b68e30be31",
   "metadata": {},
   "outputs": [],
   "source": [
    "file.describe()"
   ]
  },
  {
   "cell_type": "code",
   "execution_count": null,
   "id": "30cf3372-fad0-4a21-914f-06fffa7dd329",
   "metadata": {},
   "outputs": [],
   "source": [
    "file.columns"
   ]
  },
  {
   "cell_type": "code",
   "execution_count": null,
   "id": "a17552b7-5fa5-4dcf-a1cc-eebd13474de2",
   "metadata": {},
   "outputs": [],
   "source": [
    "x = file[['Square_Feet', 'Number_of_Bedrooms',\n",
    "       'Number_of_Bathrooms', 'Number_of_Floors', 'Year_Built',\n",
    "       'Year_Renovated']]\n",
    "y = file['Price']"
   ]
  },
  {
   "cell_type": "markdown",
   "id": "b325af54-0fa5-4240-9c8a-576abbe41ffb",
   "metadata": {},
   "source": [
    "TRAIN TEST SPLIT"
   ]
  },
  {
   "cell_type": "code",
   "execution_count": null,
   "id": "56bee725-4135-41f8-a85a-488cf920d099",
   "metadata": {},
   "outputs": [],
   "source": [
    "from sklearn.model_selection import train_test_split"
   ]
  },
  {
   "cell_type": "code",
   "execution_count": null,
   "id": "11e6ce41-5933-4f35-b262-8dafd9918b77",
   "metadata": {},
   "outputs": [],
   "source": [
    "x_train , x_test, y_train, y_test = train_test_split(x, y , test_size=0.6)"
   ]
  },
  {
   "cell_type": "markdown",
   "id": "0ca3584b-a332-4c6c-bae2-8b35e4e0ef66",
   "metadata": {},
   "source": [
    "Creating and training Model"
   ]
  },
  {
   "cell_type": "code",
   "execution_count": null,
   "id": "297f35ab-5959-4231-ae57-3da2c2d9e7fb",
   "metadata": {},
   "outputs": [],
   "source": [
    "from sklearn.linear_model import LinearRegression\n",
    "lr = LinearRegression()\n",
    "lr.fit(x_train, y_train)"
   ]
  },
  {
   "cell_type": "code",
   "execution_count": null,
   "id": "29642559-feb0-4120-a74e-f8859483063b",
   "metadata": {},
   "outputs": [],
   "source": [
    "print(lr.intercept_)"
   ]
  },
  {
   "cell_type": "code",
   "execution_count": null,
   "id": "c073833d-68c8-4a28-9731-75723ca774f6",
   "metadata": {},
   "outputs": [],
   "source": [
    "coeff_ = pd.DataFrame(lr.coef_, x.columns,columns = ['Coefficients'])\n",
    "coeff_"
   ]
  },
  {
   "cell_type": "code",
   "execution_count": null,
   "id": "ccd1f61a-44cf-4ada-804a-4c60d2cd0ab5",
   "metadata": {},
   "outputs": [],
   "source": [
    "pred = lr.predict(x_test)"
   ]
  },
  {
   "cell_type": "code",
   "execution_count": null,
   "id": "a290683b-3a7d-4aba-a53f-8464047d7219",
   "metadata": {},
   "outputs": [],
   "source": [
    "plt.scatter(y_test, pred)"
   ]
  },
  {
   "cell_type": "code",
   "execution_count": null,
   "id": "22f00b89-819d-48c4-a33f-cef51cdb82a5",
   "metadata": {},
   "outputs": [],
   "source": [
    "from sklearn import metrics"
   ]
  },
  {
   "cell_type": "code",
   "execution_count": null,
   "id": "225d120b-068b-47f0-81ba-267ab1c58334",
   "metadata": {},
   "outputs": [],
   "source": [
    "print('MAE:', metrics.mean_absolute_error(y_test, pred))\n",
    "print('MSE:', metrics.mean_squared_error(y_test, pred))\n",
    "print('RMSE:', np.sqrt(metrics.mean_squared_error(y_test, pred)))"
   ]
  }
 ],
 "metadata": {
  "kernelspec": {
   "display_name": "Python 3 (ipykernel)",
   "language": "python",
   "name": "python3"
  },
  "language_info": {
   "codemirror_mode": {
    "name": "ipython",
    "version": 3
   },
   "file_extension": ".py",
   "mimetype": "text/x-python",
   "name": "python",
   "nbconvert_exporter": "python",
   "pygments_lexer": "ipython3",
   "version": "3.11.4"
  }
 },
 "nbformat": 4,
 "nbformat_minor": 5
}
